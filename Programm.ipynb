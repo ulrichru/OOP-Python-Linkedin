{
 "cells": [
  {
   "cell_type": "code",
   "execution_count": 3,
   "id": "e515cb95-f974-4b56-99dd-38867b66f8e7",
   "metadata": {},
   "outputs": [
    {
     "name": "stdout",
     "output_type": "stream",
     "text": [
      "<KundeAlt.Kunde object at 0x13731d910>\n"
     ]
    }
   ],
   "source": [
    "from KundeAlt import *\n",
    "#default constructor\n",
    "print(Kunde())"
   ]
  },
  {
   "cell_type": "code",
   "execution_count": 5,
   "id": "9e0f9f3a-ae76-4b14-8f4f-13ae26c71d85",
   "metadata": {},
   "outputs": [
    {
     "name": "stdout",
     "output_type": "stream",
     "text": [
      "42\n"
     ]
    }
   ],
   "source": [
    "import KlasseVersusInstanz as KVI\n",
    "\n",
    "print(KVI.KlasseVersusInstanz.klassenvariable)"
   ]
  },
  {
   "cell_type": "code",
   "execution_count": 7,
   "id": "ba64f20f-7ca7-4c9d-ac4a-e4a991c0162c",
   "metadata": {},
   "outputs": [
    {
     "name": "stdout",
     "output_type": "stream",
     "text": [
      "42\n"
     ]
    }
   ],
   "source": [
    "from KlasseVersusInstanz import *\n",
    "\n",
    "print(KlasseVersusInstanz.klassenvariable)"
   ]
  },
  {
   "cell_type": "code",
   "execution_count": 9,
   "id": "a74b3f7d-3204-47a0-a43a-2580ec635770",
   "metadata": {},
   "outputs": [
    {
     "ename": "TypeError",
     "evalue": "Konto.__init__() missing 2 required positional arguments: 'kontostand' and 'kontotyp'",
     "output_type": "error",
     "traceback": [
      "\u001b[0;31m---------------------------------------------------------------------------\u001b[0m",
      "\u001b[0;31mTypeError\u001b[0m                                 Traceback (most recent call last)",
      "Cell \u001b[0;32mIn[9], line 3\u001b[0m\n\u001b[1;32m      1\u001b[0m \u001b[38;5;28;01mfrom\u001b[39;00m \u001b[38;5;21;01mKonto\u001b[39;00m \u001b[38;5;28;01mimport\u001b[39;00m \u001b[38;5;241m*\u001b[39m\n\u001b[1;32m      2\u001b[0m \u001b[38;5;66;03m#default constructor\u001b[39;00m\n\u001b[0;32m----> 3\u001b[0m Konto()\n",
      "\u001b[0;31mTypeError\u001b[0m: Konto.__init__() missing 2 required positional arguments: 'kontostand' and 'kontotyp'"
     ]
    }
   ],
   "source": [
    "from Konto import *\n",
    "#default constructor\n",
    "Konto()"
   ]
  },
  {
   "cell_type": "code",
   "execution_count": 34,
   "id": "2eeb930f-4b8a-4f10-a80b-c36c396b42b7",
   "metadata": {},
   "outputs": [
    {
     "data": {
      "text/plain": [
       "<Konto.Konto at 0x13757f740>"
      ]
     },
     "execution_count": 34,
     "metadata": {},
     "output_type": "execute_result"
    }
   ],
   "source": [
    "from Konto import *\n",
    "#default constructor\n",
    "Konto(1000,\"Girokonto\")"
   ]
  },
  {
   "cell_type": "code",
   "execution_count": 7,
   "id": "c8f7205f-38c4-4043-903e-daba69ce8f09",
   "metadata": {},
   "outputs": [
    {
     "name": "stdout",
     "output_type": "stream",
     "text": [
      "Hans\n",
      "<Konto.Konto object at 0x12c1a48f0>\n",
      "1000\n",
      "1123\n"
     ]
    }
   ],
   "source": [
    "from Kunde import *\n",
    "from Konto import *\n",
    "kunde1 = Kunde(\"Hans\",\"Dampf\",42,\"Mann\",\"Milchstrasse 123, 666 Irgendwo\", Konto(1000,\"Girokonto\"))\n",
    "print(kunde1.vorname)\n",
    "print(kunde1.konto)\n",
    "print(kunde1.konto.kontostand)\n",
    "\n",
    "kunde1.konto.einzahlen(123)\n",
    "print(kunde1.konto.kontostand)\n"
   ]
  },
  {
   "cell_type": "code",
   "execution_count": 3,
   "id": "f9ee0217-7732-40a2-89eb-889210737c0f",
   "metadata": {},
   "outputs": [
    {
     "name": "stdout",
     "output_type": "stream",
     "text": [
      "Objekt  <Konto2.Konto2 object at 0x14238bc80>  wird erzeugt.\n",
      "Objekt  <Kunde2.Kunde2 object at 0x14341d460>  wird erzeugt.\n",
      "------------------------------\n",
      "Kontostand bei Beginn:\t 1000\n",
      "Neuer Kontostand:\t 1123\n",
      "Objekt  <Kunde2.Kunde2 object at 0x14341d460>  wird beseitigt.\n",
      "Objekt  <Konto2.Konto2 object at 0x14238bc80>  wird beseitigt.\n"
     ]
    },
    {
     "data": {
      "text/plain": [
       "<__main__.Programm at 0x106044560>"
      ]
     },
     "execution_count": 3,
     "metadata": {},
     "output_type": "execute_result"
    }
   ],
   "source": [
    "from Kunde2 import *\n",
    "from Konto2 import *\n",
    "class Programm:\n",
    "    def main():\n",
    "        konto1 = Konto2(1000,\"Girokonto\")\n",
    "        kunde1 = Kunde2(\"Hans\",\"Dampf\",42,\"Mann\",\"Milchstrasse 123, 666 Irgendwo\", konto1)\n",
    "        print(\"-\" * 30)\n",
    "        print(\"Kontostand bei Beginn:\\t\", kunde1.konto.kontostand)\n",
    "        kunde1.konto.einzahlen(123)\n",
    "        print(\"Neuer Kontostand:\\t\", kunde1.konto.kontostand)\n",
    "\n",
    "    def __init__(self):\n",
    "        Programm.main()\n",
    "Programm()"
   ]
  },
  {
   "cell_type": "code",
   "execution_count": null,
   "id": "2104fc5c-df7b-4f77-9493-ef382e7f8900",
   "metadata": {},
   "outputs": [],
   "source": []
  }
 ],
 "metadata": {
  "kernelspec": {
   "display_name": "Python 3 (ipykernel)",
   "language": "python",
   "name": "python3"
  },
  "language_info": {
   "codemirror_mode": {
    "name": "ipython",
    "version": 3
   },
   "file_extension": ".py",
   "mimetype": "text/x-python",
   "name": "python",
   "nbconvert_exporter": "python",
   "pygments_lexer": "ipython3",
   "version": "3.12.4"
  }
 },
 "nbformat": 4,
 "nbformat_minor": 5
}
