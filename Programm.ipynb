{
 "cells": [
  {
   "cell_type": "code",
   "execution_count": 3,
   "id": "e515cb95-f974-4b56-99dd-38867b66f8e7",
   "metadata": {},
   "outputs": [
    {
     "name": "stdout",
     "output_type": "stream",
     "text": [
      "<KundeAlt.Kunde object at 0x13731d910>\n"
     ]
    }
   ],
   "source": [
    "from KundeAlt import *\n",
    "#default constructor\n",
    "print(Kunde())"
   ]
  },
  {
   "cell_type": "code",
   "execution_count": 5,
   "id": "9e0f9f3a-ae76-4b14-8f4f-13ae26c71d85",
   "metadata": {},
   "outputs": [
    {
     "name": "stdout",
     "output_type": "stream",
     "text": [
      "42\n"
     ]
    }
   ],
   "source": [
    "import KlasseVersusInstanz as KVI\n",
    "\n",
    "print(KVI.KlasseVersusInstanz.klassenvariable)"
   ]
  },
  {
   "cell_type": "code",
   "execution_count": 7,
   "id": "ba64f20f-7ca7-4c9d-ac4a-e4a991c0162c",
   "metadata": {},
   "outputs": [
    {
     "name": "stdout",
     "output_type": "stream",
     "text": [
      "42\n"
     ]
    }
   ],
   "source": [
    "from KlasseVersusInstanz import *\n",
    "\n",
    "print(KlasseVersusInstanz.klassenvariable)"
   ]
  },
  {
   "cell_type": "code",
   "execution_count": 9,
   "id": "a74b3f7d-3204-47a0-a43a-2580ec635770",
   "metadata": {},
   "outputs": [
    {
     "ename": "TypeError",
     "evalue": "Konto.__init__() missing 2 required positional arguments: 'kontostand' and 'kontotyp'",
     "output_type": "error",
     "traceback": [
      "\u001b[0;31m---------------------------------------------------------------------------\u001b[0m",
      "\u001b[0;31mTypeError\u001b[0m                                 Traceback (most recent call last)",
      "Cell \u001b[0;32mIn[9], line 3\u001b[0m\n\u001b[1;32m      1\u001b[0m \u001b[38;5;28;01mfrom\u001b[39;00m \u001b[38;5;21;01mKonto\u001b[39;00m \u001b[38;5;28;01mimport\u001b[39;00m \u001b[38;5;241m*\u001b[39m\n\u001b[1;32m      2\u001b[0m \u001b[38;5;66;03m#default constructor\u001b[39;00m\n\u001b[0;32m----> 3\u001b[0m Konto()\n",
      "\u001b[0;31mTypeError\u001b[0m: Konto.__init__() missing 2 required positional arguments: 'kontostand' and 'kontotyp'"
     ]
    }
   ],
   "source": [
    "from Konto import *\n",
    "#default constructor\n",
    "Konto()"
   ]
  },
  {
   "cell_type": "code",
   "execution_count": 34,
   "id": "2eeb930f-4b8a-4f10-a80b-c36c396b42b7",
   "metadata": {},
   "outputs": [
    {
     "data": {
      "text/plain": [
       "<Konto.Konto at 0x13757f740>"
      ]
     },
     "execution_count": 34,
     "metadata": {},
     "output_type": "execute_result"
    }
   ],
   "source": [
    "from Konto import *\n",
    "#default constructor\n",
    "Konto(1000,\"Girokonto\")"
   ]
  },
  {
   "cell_type": "code",
   "execution_count": 7,
   "id": "c8f7205f-38c4-4043-903e-daba69ce8f09",
   "metadata": {},
   "outputs": [
    {
     "name": "stdout",
     "output_type": "stream",
     "text": [
      "Hans\n",
      "<Konto.Konto object at 0x12c1a48f0>\n",
      "1000\n",
      "1123\n"
     ]
    }
   ],
   "source": [
    "from Kunde import *\n",
    "from Konto import *\n",
    "kunde1 = Kunde(\"Hans\",\"Dampf\",42,\"Mann\",\"Milchstrasse 123, 666 Irgendwo\", Konto(1000,\"Girokonto\"))\n",
    "print(kunde1.vorname)\n",
    "print(kunde1.konto)\n",
    "print(kunde1.konto.kontostand)\n",
    "\n",
    "kunde1.konto.einzahlen(123)\n",
    "print(kunde1.konto.kontostand)\n"
   ]
  },
  {
   "cell_type": "code",
   "execution_count": 19,
   "id": "f9ee0217-7732-40a2-89eb-889210737c0f",
   "metadata": {},
   "outputs": [
    {
     "name": "stdout",
     "output_type": "stream",
     "text": [
      "Objekt  <Konto2.Konto2 object at 0x143936780>  wird erzeugt.\n",
      "Objekt  <Kunde2.Kunde2 object at 0x143934dd0>  wird erzeugt.\n",
      "------------------------------\n",
      "Kontostand bei Beginn:\t 1000\n",
      "Neuer Kontostand:\t 1123\n",
      "Objekt  <Kunde2.Kunde2 object at 0x143934dd0>  wird beseitigt.\n",
      "Objekt  <Konto2.Konto2 object at 0x143936780>  wird beseitigt.\n",
      "<__main__.Programm object at 0x143937c80>\n",
      "Objekt  <Konto2.Konto2 object at 0x143934dd0>  wird erzeugt.\n",
      "Objekt  <Kunde2.Kunde2 object at 0x143934080>  wird erzeugt.\n",
      "------------------------------\n",
      "Kontostand bei Beginn:\t 1000\n",
      "Neuer Kontostand:\t 1123\n",
      "Objekt  <Kunde2.Kunde2 object at 0x143934080>  wird beseitigt.\n",
      "Objekt  <Konto2.Konto2 object at 0x143934dd0>  wird beseitigt.\n"
     ]
    },
    {
     "data": {
      "text/plain": [
       "<__main__.Programm at 0x143937c80>"
      ]
     },
     "execution_count": 19,
     "metadata": {},
     "output_type": "execute_result"
    }
   ],
   "source": [
    "from Kunde2 import *\n",
    "from Konto2 import *\n",
    "class Programm:\n",
    "    def main():\n",
    "        konto1 = Konto2(1000,\"Girokonto\")\n",
    "        kunde1 = Kunde2(\"Hans\",\"Dampf\",42,\"Mann\",\"Milchstrasse 123, 666 Irgendwo\", konto1)\n",
    "        print(\"-\" * 30)\n",
    "        print(\"Kontostand bei Beginn:\\t\", kunde1.konto.kontostand)\n",
    "        kunde1.konto.einzahlen(123)\n",
    "        print(\"Neuer Kontostand:\\t\", kunde1.konto.kontostand)\n",
    "        return \"test\"\n",
    "\n",
    "    def __init__(self):\n",
    "        Programm.main()\n",
    "print(Programm())\n",
    "Programm()"
   ]
  },
  {
   "cell_type": "code",
   "execution_count": 2,
   "id": "2104fc5c-df7b-4f77-9493-ef382e7f8900",
   "metadata": {},
   "outputs": [
    {
     "name": "stdout",
     "output_type": "stream",
     "text": [
      "Anzahl der Tiere:  0\n",
      "Anzahl der Tiere:  1\n",
      "Anzahl der Tiere:  2\n",
      "Anzahl der Tiere am Ende (Abfrage für die Klasse):  3\n",
      "Anzahl der Tiere am Ende (Abfrage für eine Instanz): 3\n"
     ]
    },
    {
     "data": {
      "text/plain": [
       "<__main__.ProgrammKlasse at 0x11fabba70>"
      ]
     },
     "execution_count": 2,
     "metadata": {},
     "output_type": "execute_result"
    }
   ],
   "source": [
    "from Tier import *\n",
    "class ProgrammKlasse:\n",
    "    def main():\n",
    "        print(\"Anzahl der Tiere: \", Tier.AnzahlTiere())\n",
    "        susi = Tier()\n",
    "        print(\"Anzahl der Tiere: \", Tier.AnzahlTiere())\n",
    "        strolch = Tier()\n",
    "        print(\"Anzahl der Tiere: \", Tier.AnzahlTiere())\n",
    "        herb = Tier()\n",
    "        print(\"Anzahl der Tiere am Ende (Abfrage für die Klasse): \", Tier.AnzahlTiere())\n",
    "        print(\"Anzahl der Tiere am Ende (Abfrage für eine Instanz):\", susi.AnzahlTiere())\n",
    "\n",
    "\n",
    "    def __init__(self):\n",
    "        ProgrammKlasse.main()\n",
    "ProgrammKlasse()\n"
   ]
  },
  {
   "cell_type": "code",
   "execution_count": 4,
   "id": "f3bcb163-a27e-4dfa-924f-270e41ac4f48",
   "metadata": {},
   "outputs": [
    {
     "name": "stdout",
     "output_type": "stream",
     "text": [
      "63\n",
      "42\n",
      "440\n",
      "42\n",
      "10.5\n",
      "11\n",
      "21\n"
     ]
    },
    {
     "data": {
      "text/plain": [
       "<__main__.ProgrammStatisch at 0x11ff91070>"
      ]
     },
     "execution_count": 4,
     "metadata": {},
     "output_type": "execute_result"
    }
   ],
   "source": [
    "from Rechne import *\n",
    "class ProgrammStatisch:\n",
    "    def main():\n",
    "        Rechne.multipliziere(22,20)\n",
    "        obj = Rechne()\n",
    "        print(obj.addiere(33,30))\n",
    "        obj.rechne()\n",
    "\n",
    "\n",
    "    def __init__(self):\n",
    "        ProgrammStatisch.main()\n",
    "ProgrammStatisch()\n"
   ]
  },
  {
   "cell_type": "code",
   "execution_count": 2,
   "id": "db041504-ebf6-4873-a6fa-454862cad15b",
   "metadata": {},
   "outputs": [
    {
     "name": "stdout",
     "output_type": "stream",
     "text": [
      "Kontostand bei Beginn:\t 1000\n",
      "Kontostand bei Beginn:\t 1123\n"
     ]
    },
    {
     "data": {
      "text/plain": [
       "<__main__.Programm at 0x13244db80>"
      ]
     },
     "execution_count": 2,
     "metadata": {},
     "output_type": "execute_result"
    }
   ],
   "source": [
    "from KundeGetterSetter import *\n",
    "from KontoGetterSetter import *\n",
    "class Programm:\n",
    "    def main():\n",
    "        konto1 = KontoGetterSetter(1000,\"Girokonto\")\n",
    "        kunde1 = KundeGetterSetter(\"Hans\",\"Dampf\",42,\"Mann\",\"Milchstrasse 123, 666 Irgendwo\", konto1)\n",
    "        #Kontostand kann nur noch über GetterSetter abgefragt werden, da die Variablen private sind. (Siehe KontoGetterSetter.py)\n",
    "        print(\"Kontostand bei Beginn:\\t\", kunde1.konto.getKontostand())\n",
    "        kunde1.konto.einzahlen(123)\n",
    "        print(\"Kontostand bei Beginn:\\t\", kunde1.konto.getKontostand())\n",
    "        #kunde1.konto.kontostand = -5\n",
    "        #print(\"Neuer Kontostand:\\t\", kunde1.konto.kontostand)\n",
    "\n",
    "    def __init__(self):\n",
    "        Programm.main()\n",
    "Programm()\n",
    "\n",
    "\n",
    "\n"
   ]
  },
  {
   "cell_type": "code",
   "execution_count": 2,
   "id": "577e94f4-57d0-449e-83dd-5ae667bc789a",
   "metadata": {},
   "outputs": [
    {
     "name": "stdout",
     "output_type": "stream",
     "text": [
      "Eingabe Zahl 1\n"
     ]
    },
    {
     "name": "stdin",
     "output_type": "stream",
     "text": [
      " 1\n"
     ]
    },
    {
     "name": "stdout",
     "output_type": "stream",
     "text": [
      "1\n",
      "Das kommt immer\n"
     ]
    },
    {
     "data": {
      "text/plain": [
       "<__main__.Programm at 0x105dd0290>"
      ]
     },
     "execution_count": 2,
     "metadata": {},
     "output_type": "execute_result"
    }
   ],
   "source": [
    "from Ausnahme import *\n",
    "\n",
    "class Programm:\n",
    "    def main():\n",
    "        obj = Ausnahme()\n",
    "        obj.rechne()\n",
    "    def __init__(self):\n",
    "        Programm.main()\n",
    "Programm()"
   ]
  },
  {
   "cell_type": "code",
   "execution_count": 5,
   "id": "daa21c9d-6a88-44f5-b676-a09a5818bf1c",
   "metadata": {},
   "outputs": [
    {
     "name": "stdout",
     "output_type": "stream",
     "text": [
      "Eingabe Zahl 1\n"
     ]
    },
    {
     "name": "stdin",
     "output_type": "stream",
     "text": [
      " 1\n"
     ]
    },
    {
     "name": "stdout",
     "output_type": "stream",
     "text": [
      "Eingabe Zahl 2\n"
     ]
    },
    {
     "name": "stdin",
     "output_type": "stream",
     "text": [
      " 2\n"
     ]
    },
    {
     "name": "stdout",
     "output_type": "stream",
     "text": [
      "2\n"
     ]
    },
    {
     "data": {
      "text/plain": [
       "<__main__.Programm at 0x11e267aa0>"
      ]
     },
     "execution_count": 5,
     "metadata": {},
     "output_type": "execute_result"
    }
   ],
   "source": [
    "from Ausnahme2 import *\n",
    "\n",
    "class Programm:\n",
    "    def main():\n",
    "        obj = Ausnahme2()\n",
    "        obj.rechne()\n",
    "    def __init__(self):\n",
    "        Programm.main()\n",
    "Programm()"
   ]
  },
  {
   "cell_type": "code",
   "execution_count": 2,
   "id": "890d1bc7-6d77-4b40-b0de-69134b3f8a43",
   "metadata": {},
   "outputs": [
    {
     "name": "stdin",
     "output_type": "stream",
     "text": [
      "Bitte die erste Zahl eingeben:\n",
      " 2\n",
      "Bitte die zweite Zahl eingeben:\n",
      " ww\n"
     ]
    },
    {
     "name": "stdout",
     "output_type": "stream",
     "text": [
      "Bitte nur Zahlen eingeben\n"
     ]
    },
    {
     "name": "stdin",
     "output_type": "stream",
     "text": [
      "Ende mit q - weiter mit jeder anderen Taste:  1\n",
      "Bitte die erste Zahl eingeben:\n",
      " 1\n",
      "Bitte die zweite Zahl eingeben:\n",
      " 3\n"
     ]
    },
    {
     "name": "stdout",
     "output_type": "stream",
     "text": [
      "0.3333333333333333\n"
     ]
    },
    {
     "name": "stdin",
     "output_type": "stream",
     "text": [
      "Ende mit q - weiter mit jeder anderen Taste:  3\n",
      "Bitte die erste Zahl eingeben:\n",
      " 1\n",
      "Bitte die zweite Zahl eingeben:\n",
      " 1\n"
     ]
    },
    {
     "name": "stdout",
     "output_type": "stream",
     "text": [
      "1.0\n"
     ]
    },
    {
     "name": "stdin",
     "output_type": "stream",
     "text": [
      "Ende mit q - weiter mit jeder anderen Taste:  0\n",
      "Bitte die erste Zahl eingeben:\n",
      " 0\n",
      "Bitte die zweite Zahl eingeben:\n",
      " 0\n"
     ]
    },
    {
     "name": "stdout",
     "output_type": "stream",
     "text": [
      "Die zweite Eingabe darf nicht 0 sein\n"
     ]
    },
    {
     "name": "stdin",
     "output_type": "stream",
     "text": [
      "Ende mit q - weiter mit jeder anderen Taste:  0\n",
      "Bitte die erste Zahl eingeben:\n",
      " 0\n",
      "Bitte die zweite Zahl eingeben:\n",
      " 2\n"
     ]
    },
    {
     "name": "stdout",
     "output_type": "stream",
     "text": [
      "0.0\n"
     ]
    },
    {
     "name": "stdin",
     "output_type": "stream",
     "text": [
      "Ende mit q - weiter mit jeder anderen Taste:  q\n"
     ]
    },
    {
     "name": "stdout",
     "output_type": "stream",
     "text": [
      "Ende der Berechnungen\n"
     ]
    },
    {
     "data": {
      "text/plain": [
       "<__main__.Programm at 0x1082fbaa0>"
      ]
     },
     "execution_count": 2,
     "metadata": {},
     "output_type": "execute_result"
    }
   ],
   "source": [
    "from AusnahmeMultipleExceptions import *\n",
    "\n",
    "class Programm:\n",
    "    def main():\n",
    "        obj = AusnahmeMultipleExceptions()\n",
    "        obj.rechne()\n",
    "    def __init__(self):\n",
    "        Programm.main()\n",
    "Programm()"
   ]
  },
  {
   "cell_type": "code",
   "execution_count": 24,
   "id": "ad8d3105-0a5a-4011-9a40-c3c971e9cab6",
   "metadata": {},
   "outputs": [
    {
     "name": "stdin",
     "output_type": "stream",
     "text": [
      "Bitte Geheimzahl eingeben:\n",
      " 2222\n",
      "Ende mit q - weiter mit jeder anderen Taste:  1\n",
      "Bitte Geheimzahl eingeben:\n",
      " 2222\n",
      "Ende mit q - weiter mit jeder anderen Taste:  1\n",
      "Bitte Geheimzahl eingeben:\n",
      " 22222\n"
     ]
    },
    {
     "name": "stdout",
     "output_type": "stream",
     "text": [
      "Maximale Anzahl an Versuchen überschritten\t:\t<class 'BaseException'>\n"
     ]
    },
    {
     "data": {
      "text/plain": [
       "<__main__.Programm at 0x11b516ed0>"
      ]
     },
     "execution_count": 24,
     "metadata": {},
     "output_type": "execute_result"
    }
   ],
   "source": [
    "from AusnahmeRaise import *\n",
    "\n",
    "class Programm:\n",
    "    def main():\n",
    "        try:\n",
    "            obj = AusnahmeRaise()\n",
    "            obj.verifiziere()\n",
    "        except BaseException as e:\n",
    "            print(e.args[0], type(e), sep=\"\\t:\\t\")\n",
    "    def __init__(self):\n",
    "        Programm.main()\n",
    "Programm()"
   ]
  },
  {
   "cell_type": "code",
   "execution_count": 2,
   "id": "3173b523-dce5-4732-95cc-73123cb21526",
   "metadata": {},
   "outputs": [
    {
     "name": "stdin",
     "output_type": "stream",
     "text": [
      "Bitte die erste Zahl eingeben:\n",
      " 22\n",
      "Bitte die zweite Zahl eingeben:\n",
      " 33s\n"
     ]
    },
    {
     "name": "stdout",
     "output_type": "stream",
     "text": [
      "could not convert string to float: '33s'\t:\t<class 'ValueError'>\n"
     ]
    },
    {
     "name": "stdin",
     "output_type": "stream",
     "text": [
      "Ende mit q - weiter mit jeder anderen Taste:  q\n"
     ]
    },
    {
     "name": "stdout",
     "output_type": "stream",
     "text": [
      "Ende der Berechnungen\n"
     ]
    },
    {
     "data": {
      "text/plain": [
       "<__main__.Programm at 0x11c17b980>"
      ]
     },
     "execution_count": 2,
     "metadata": {},
     "output_type": "execute_result"
    }
   ],
   "source": [
    "from AusnahmeAuswerten import *\n",
    "\n",
    "class Programm:\n",
    "    def main():\n",
    "        obj = AusnahmeAuswerten()\n",
    "        obj.rechne()\n",
    "    def __init__(self):\n",
    "        Programm.main()\n",
    "Programm()\n",
    "\n",
    "\n",
    "\n"
   ]
  },
  {
   "cell_type": "code",
   "execution_count": 33,
   "id": "aa675034-6973-4334-9d76-e0282b10158e",
   "metadata": {},
   "outputs": [
    {
     "name": "stdin",
     "output_type": "stream",
     "text": [
      "Bitte Geheimzahl eingeben:\n",
      " 22222\n",
      "Ende mit q - weiter mit jeder anderen Taste:  2\n",
      "Bitte Geheimzahl eingeben:\n",
      " 22222\n",
      "Ende mit q - weiter mit jeder anderen Taste:  22222\n",
      "Bitte Geheimzahl eingeben:\n",
      " 22222\n"
     ]
    },
    {
     "name": "stdout",
     "output_type": "stream",
     "text": [
      "Maximale Anzahl an Versuchen überschritten\t:\t<class 'BaseException'>\n"
     ]
    },
    {
     "data": {
      "text/plain": [
       "<__main__.Programm at 0x12ac137d0>"
      ]
     },
     "execution_count": 33,
     "metadata": {},
     "output_type": "execute_result"
    }
   ],
   "source": [
    "from AusnahmeRaiseIntErrorHandling import *\n",
    "\n",
    "class Programm:\n",
    "    def main():\n",
    "        obj = AusnahmeRaiseIntErrorHandling()\n",
    "        obj.verifiziere()\n",
    "    def __init__(self):\n",
    "        Programm.main()\n",
    "Programm()"
   ]
  },
  {
   "cell_type": "code",
   "execution_count": 6,
   "id": "5299d687-3fb2-4b84-99b2-815cc2e71308",
   "metadata": {},
   "outputs": [
    {
     "name": "stdin",
     "output_type": "stream",
     "text": [
      "Bitte Geheimzahl eingeben:\n",
      " 111111111111\n"
     ]
    },
    {
     "name": "stdout",
     "output_type": "stream",
     "text": [
      "Zugang gestattet\n"
     ]
    },
    {
     "data": {
      "text/plain": [
       "<__main__.Programm at 0x1177d2c30>"
      ]
     },
     "execution_count": 6,
     "metadata": {},
     "output_type": "execute_result"
    }
   ],
   "source": [
    "from AusnahmeMitEigenerAusgabe import *\n",
    "from MeineAusnahme import *\n",
    "class Programm:\n",
    "    def main():\n",
    "        obj = AusnahmeMitEigenerAusgabe()\n",
    "        try:\n",
    "            obj.verifiziere()\n",
    "        except MeineAusnahme:\n",
    "            print(\"Es gab Probleme\")\n",
    "    def __init__(self):\n",
    "        Programm.main()\n",
    "Programm()\n",
    "\n",
    "\n",
    "\n"
   ]
  },
  {
   "cell_type": "code",
   "execution_count": 2,
   "id": "cba6593b-071f-4f86-a7cd-cf60488ddb29",
   "metadata": {},
   "outputs": [
    {
     "name": "stdout",
     "output_type": "stream",
     "text": [
      "Das Dictionary __dict__: {'kontostand': 1000, 'kontotyp': 'Girokonto'}\n",
      "Das Dictionary __dict__: {'kontostand': 1000, 'kontotyp': 'Girokonto', 'eigentuemer': 'Ralph'}\n",
      "Das Dictionary __dict__: {'kontostand': 1000, 'kontotyp': 'Girokonto', 'eigentuemer': 'Ralph', 'einzahlen': <function Programm.einzahlen at 0x105e90fe0>}\n",
      "1123\n",
      "Das Dictionary __dict__: {'kontostand': 1123, 'kontotyp': 'Girokonto', 'eigentuemer': 'Ralph', 'einzahlen': <function Programm.einzahlen at 0x105e90fe0>, 'getTyp': <function Programm.main.<locals>.<lambda> at 0x1376c74c0>}\n",
      "Girokonto\n"
     ]
    },
    {
     "data": {
      "text/plain": [
       "<__main__.Programm at 0x134bf5700>"
      ]
     },
     "execution_count": 2,
     "metadata": {},
     "output_type": "execute_result"
    }
   ],
   "source": [
    "from KontoObjekterweiterung import *\n",
    "class Programm:\n",
    "    def einzahlen(self,betrag):\n",
    "        self.kontostand += betrag\n",
    "    def main():\n",
    "        konto = KontoObjekterweiterung(1000,\"Girokonto\")\n",
    "        print(\"Das Dictionary __dict__:\", konto.__dict__)\n",
    "        konto.eigentuemer = \"Ralph\"\n",
    "        print(\"Das Dictionary __dict__:\", konto.__dict__)\n",
    "        konto.einzahlen = Programm.einzahlen\n",
    "        print(\"Das Dictionary __dict__:\", konto.__dict__)\n",
    "        konto.einzahlen(konto, 123)\n",
    "        print(konto.kontostand)\n",
    "        konto.getTyp = lambda: konto.kontotyp\n",
    "        print(\"Das Dictionary __dict__:\", konto.__dict__)\n",
    "        print(konto.getTyp())\n",
    "        \n",
    "       \n",
    "    def __init__(self):\n",
    "        Programm.main()\n",
    "Programm()"
   ]
  },
  {
   "cell_type": "code",
   "execution_count": 4,
   "id": "b9fe9f87-c8f8-412d-acb1-6bd6292948b6",
   "metadata": {},
   "outputs": [
    {
     "name": "stdout",
     "output_type": "stream",
     "text": [
      "__slots__: ['kontostand', 'kontotyp']\n"
     ]
    },
    {
     "data": {
      "text/plain": [
       "<__main__.Programm at 0x137ae01a0>"
      ]
     },
     "execution_count": 4,
     "metadata": {},
     "output_type": "execute_result"
    }
   ],
   "source": [
    "from KontoSlots import *\n",
    "class Programm:\n",
    "    def main():\n",
    "        konto = KontoSlots(1000,\"Girokonto\")\n",
    "        \n",
    "        print(\"__slots__:\", konto.__slots__)\n",
    "    def __init__(self):\n",
    "        Programm.main()\n",
    "Programm()"
   ]
  },
  {
   "cell_type": "code",
   "execution_count": null,
   "id": "7773b5ac-0f9b-4a38-a900-e81a04a7e50f",
   "metadata": {},
   "outputs": [],
   "source": []
  }
 ],
 "metadata": {
  "kernelspec": {
   "display_name": "Python 3 (ipykernel)",
   "language": "python",
   "name": "python3"
  },
  "language_info": {
   "codemirror_mode": {
    "name": "ipython",
    "version": 3
   },
   "file_extension": ".py",
   "mimetype": "text/x-python",
   "name": "python",
   "nbconvert_exporter": "python",
   "pygments_lexer": "ipython3",
   "version": "3.12.4"
  }
 },
 "nbformat": 4,
 "nbformat_minor": 5
}
